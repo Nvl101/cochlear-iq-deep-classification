{
 "cells": [
  {
   "cell_type": "markdown",
   "metadata": {},
   "source": [
    "## Training DenseNet121 with landmark images"
   ]
  },
  {
   "cell_type": "code",
   "execution_count": 1,
   "metadata": {},
   "outputs": [
    {
     "name": "stdout",
     "output_type": "stream",
     "text": [
      "- loaded state from: densenet121_landmark_state_06-07-ep_22.pkl\n",
      "- starting from epoch: 23\n"
     ]
    }
   ],
   "source": [
    "# imports\n",
    "import datetime\n",
    "import time\n",
    "import os\n",
    "import random\n",
    "import re\n",
    "import tempfile\n",
    "import warnings\n",
    "import pandas as pd\n",
    "import torch\n",
    "from torch.utils.data import DataLoader\n",
    "from dataio.dataset import ImageLabels\n",
    "from dataio.data_sampler import RandomOverSampler\n",
    "from networks.densenet_classifier import densenet121_classifier\n",
    "from training.evaluation import AccuracyEvaluator, LossEvaluator\n",
    "from training.utility.progress_bar import ProgressBar\n",
    "from training.utility.early_stopper import ValLoss as EarlyStopper\n",
    "from training.utility.signal_control import SignalFileControl\n",
    "\n",
    "\n",
    "# whenever possible, use cuda instead of cpu\n",
    "device = torch.device(\"cuda\" if torch.cuda.is_available() else \"cpu\")\n",
    "if torch.cuda.is_available():\n",
    "    device = torch.device(\"cuda\")\n",
    "else:\n",
    "    device = torch.device(\"cpu\")\n",
    "    warnings.warn(\"torch is using CPU, as cuda is unavailable. this is inefficient.\")\n",
    "torch.set_default_device(device)\n",
    "\n",
    "# setting random state\n",
    "random.seed(233)\n",
    "_ = torch.manual_seed(233)\n",
    "\n",
    "# whenever possible, use cuda instead of cpu\n",
    "device = torch.device(\"cuda\" if torch.cuda.is_available() else \"cpu\")\n",
    "if torch.cuda.is_available():\n",
    "    device = torch.device(\"cuda\")\n",
    "else:\n",
    "    device = torch.device(\"cpu\")\n",
    "    warnings.warn(\"torch is using CPU, as cuda is unavailable. this is inefficient.\")\n",
    "torch.set_default_device(device)\n",
    "\n",
    "# paths to save and load state dictionary\n",
    "load_sd = True\n",
    "save_sd = True\n",
    "\n",
    "bin_path = os.path.abspath(\"bin\")\n",
    "assert os.path.isdir(bin_path)\n",
    "\n",
    "# if load_sd set True, load from state dict\n",
    "sd_load_path = None\n",
    "starting_epoch = 0\n",
    "sd_file_pattern = r'densenet121_landmark_state_[0-9]{2}-[0-9]{2}-ep_[0-9]{2}\\.pkl'\n",
    "sd_epoch_pattern = r'densenet121_landmark_state_[0-9]{2}-[0-9]{2}-ep_([0-9]{2})\\.pkl'\n",
    "if load_sd:\n",
    "    sd_files = [\n",
    "        filename for filename in os.listdir(bin_path)\n",
    "        if re.match(sd_file_pattern, filename)]\n",
    "    sd_files.sort(reverse=True)\n",
    "    if len(sd_files) > 0:\n",
    "        sd_filename = sd_files[0]\n",
    "        sd_load_path = os.path.join(bin_path, sd_filename) \\\n",
    "            if sd_filename is not None else None\n",
    "        match = re.search(sd_epoch_pattern, sd_filename)\n",
    "        starting_epoch = int(match.group(1))\n",
    "        print(f'- loaded state from: {sd_filename}')\n",
    "print(f\"- starting from epoch: {starting_epoch + 1}\")\n",
    "\n",
    "# tempfile to save the model every time it reaches the best validation loss\n",
    "state_dict_backup_path = tempfile.mktemp(prefix='state-dict_', suffix='.pth')"
   ]
  },
  {
   "cell_type": "markdown",
   "metadata": {},
   "source": [
    "read data from the table, split into training, validation and test sets by patient id"
   ]
  },
  {
   "cell_type": "code",
   "execution_count": 2,
   "metadata": {},
   "outputs": [
    {
     "name": "stdout",
     "output_type": "stream",
     "text": [
      "training: 217 images\n",
      "label\n",
      "2    101\n",
      "1     95\n",
      "3     21\n",
      "Name: count, dtype: int64\n",
      "validation: 60 images\n",
      "label\n",
      "2    39\n",
      "1    11\n",
      "3    10\n",
      "Name: count, dtype: int64\n",
      "test: 17 images\n",
      "label\n",
      "2    12\n",
      "1     4\n",
      "3     1\n",
      "Name: count, dtype: int64\n"
     ]
    }
   ],
   "source": [
    "# load the image quality table\n",
    "image_quality_table_path = r\"D:\\data\\cochlear-project\\tables\\landmark_image_quality.csv\"\n",
    "image_quality_table = pd.read_csv(image_quality_table_path)\n",
    "# separation of training, validation and test sets\n",
    "patient_ids = image_quality_table['patient_id'].unique().tolist()\n",
    "total_count = len(patient_ids)\n",
    "validation_size = 0.15\n",
    "test_size = 0.1\n",
    "validation_count = round(total_count * validation_size)\n",
    "test_count = round(total_count * test_size)\n",
    "training_count = total_count - validation_count - test_count\n",
    "random.shuffle(patient_ids)\n",
    "training_ids = patient_ids[:training_count]\n",
    "validation_ids = patient_ids[training_count:training_count+validation_count]\n",
    "test_ids = patient_ids[training_count+validation_count:]\n",
    "training_table = image_quality_table[image_quality_table['patient_id'].isin(training_ids)]\n",
    "validation_table = image_quality_table[image_quality_table['patient_id'].isin(validation_ids)]\n",
    "test_table = image_quality_table[image_quality_table['patient_id'].isin(test_ids)]\n",
    "# showing image counts and distribution of labels in 3 sets\n",
    "print(f\"training: {training_table.shape[0]} images\\n{training_table['label'].value_counts()}\")\n",
    "print(f\"validation: {validation_table.shape[0]} images\\n{validation_table['label'].value_counts()}\")\n",
    "print(f\"test: {test_table.shape[0]} images\\n{test_table['label'].value_counts()}\")"
   ]
  },
  {
   "cell_type": "markdown",
   "metadata": {},
   "source": [
    "create corresponding datasets and dataloaders"
   ]
  },
  {
   "cell_type": "code",
   "execution_count": 3,
   "metadata": {},
   "outputs": [],
   "source": [
    "num_workers = 16\n",
    "batch_size = 4\n",
    "# create training, validation and test sets\n",
    "training_dataset = ImageLabels.from_iterables(training_table['image_path'], training_table['label'], augmentation=True)\n",
    "validation_dataset = ImageLabels.from_iterables(validation_table['image_path'], validation_table['label'])\n",
    "test_dataset = ImageLabels.from_iterables(test_table['image_path'], test_table['label'])\n",
    "# oversample on training datasets\n",
    "training_sampler = RandomOverSampler(training_table['label'].tolist(), max_duplicates=2)\n",
    "# define dataloaders\n",
    "training_dataloader = DataLoader(training_dataset, batch_size, num_workers=num_workers, sampler=training_sampler)\n",
    "validation_dataloader = DataLoader(validation_dataset, batch_size, num_workers=num_workers, pin_memory=True)\n",
    "test_dataloader = DataLoader(validation_dataset, batch_size, num_workers=num_workers)"
   ]
  },
  {
   "cell_type": "markdown",
   "metadata": {},
   "source": [
    "model and training configurations"
   ]
  },
  {
   "cell_type": "code",
   "execution_count": 4,
   "metadata": {},
   "outputs": [],
   "source": [
    "# training configurations\n",
    "learning_rate = 0.00005 # 0.001 # 0.00005, originally without lr scheduler\n",
    "n_epoches = 7\n",
    "min_epoches = 3 # minimum epoches before early stopper allowed\n",
    "\n",
    "# the classifier model\n",
    "model = densenet121_classifier.to(device=device)\n",
    "model.drop_rate = 0.2\n",
    "\n",
    "# optimizers\n",
    "# loss_function = torch.nn.CrossEntropyLoss() # (weight=torch.Tensor([0.1, 0.45, 0.45]).to(device))\n",
    "loss_function = torch.nn.BCELoss()\n",
    "optimizer = torch.optim.Adam(model.parameters(), lr=learning_rate)\n",
    "scheduler = torch.optim.lr_scheduler.StepLR(\n",
    "    optimizer, step_size=3, gamma=0.25\n",
    ")\n",
    "\n",
    "# accuracy and loss evaluators\n",
    "training_loss_evaluator = LossEvaluator(loss_function)\n",
    "validation_loss_evaluator = LossEvaluator(loss_function)\n",
    "validation_accuracy = AccuracyEvaluator()\n",
    "\n",
    "best_epoch, best_loss = None, None\n",
    "first_run = True\n",
    "\n",
    "training_losses = []\n",
    "validation_losses = []"
   ]
  },
  {
   "cell_type": "markdown",
   "metadata": {},
   "source": [
    "(below for continued learning only)"
   ]
  },
  {
   "cell_type": "code",
   "execution_count": 14,
   "metadata": {},
   "outputs": [],
   "source": [
    "if not first_run:\n",
    "    learning_rate = 0.000025\n",
    "    n_epoches = 13"
   ]
  },
  {
   "cell_type": "markdown",
   "metadata": {},
   "source": [
    "start training"
   ]
  },
  {
   "cell_type": "code",
   "execution_count": 5,
   "metadata": {},
   "outputs": [
    {
     "name": "stdout",
     "output_type": "stream",
     "text": [
      "signal file path: C:\\Users\\user\\AppData\\Local\\Temp\\signal-06-08-h3t81gxz\n",
      "epoch # 23\n",
      "train loss: 0.553          validation loss: 0.492          validation accuracy: 58.33 %\n",
      "precision: 0.86          recall: 1.0          f1: 0.925\n",
      "duration: 42.62 s          learning rate: 5e-05\n",
      "---------------------------------------------------------------------------\n",
      "epoch # 24\n",
      "train loss: 0.342          validation loss: 0.351          validation accuracy: 75.0 %\n",
      "precision: 0.889          recall: 0.98          f1: 0.932\n",
      "duration: 46.91 s          learning rate: 5e-05\n",
      "---------------------------------------------------------------------------\n",
      "epoch # 25\n",
      "train loss: 0.227          validation loss: 0.265          validation accuracy: 86.67 %\n",
      "precision: 0.922          recall: 0.959          f1: 0.94\n",
      "duration: 66.76 s          learning rate: 1.25e-05\n",
      "---------------------------------------------------------------------------\n",
      "epoch # 26\n",
      "train loss: 0.153          validation loss: 0.241          validation accuracy: 86.67 %\n",
      "precision: 0.923          recall: 0.98          f1: 0.95\n",
      "duration: 60.92 s          learning rate: 1.25e-05\n",
      "---------------------------------------------------------------------------\n",
      "epoch # 27\n",
      "train loss: 0.131          validation loss: 0.231          validation accuracy: 86.67 %\n",
      "precision: 0.923          recall: 0.98          f1: 0.95\n",
      "duration: 71.41 s          learning rate: 1.25e-05\n",
      "---------------------------------------------------------------------------\n",
      "epoch # 28\n",
      "train loss: 0.115          validation loss: 0.222          validation accuracy: 88.33 %\n",
      "precision: 0.923          recall: 0.98          f1: 0.95\n",
      "duration: 60.18 s          learning rate: 3.125e-06\n",
      "---------------------------------------------------------------------------\n",
      "epoch # 29\n",
      "train loss: 0.102          validation loss: 0.224          validation accuracy: 86.67 %\n",
      "precision: 0.922          recall: 0.959          f1: 0.94\n",
      "duration: 66.12 s          learning rate: 3.125e-06\n",
      "---------------------------------------------------------------------------\n",
      "---------------------------------------------------------------------------\n",
      "best validation loss: 0.22238, epoch 28\n",
      "saved to temp file: C:\\Users\\user\\AppData\\Local\\Temp\\state-dict_er0gnn0t.pth\n"
     ]
    }
   ],
   "source": [
    "earlystopper = EarlyStopper(tolerance=3, target=0.1, cooldown=1)\n",
    "signalstopper = SignalFileControl()\n",
    "\n",
    "# training epoches loop\n",
    "for epoch in range(n_epoches):\n",
    "    current_epoch = epoch + 1 + starting_epoch\n",
    "    print(f'epoch # {current_epoch}')\n",
    "    progress = ProgressBar(len(training_dataloader) + len(validation_dataloader))\n",
    "    epoch_start_time = time.time()\n",
    "    # reset pred and actual labels after each epoch\n",
    "    validation_accuracy.reset()\n",
    "    training_loss_evaluator.reset()\n",
    "    validation_loss_evaluator.reset()\n",
    "    \n",
    "    # training network\n",
    "    model.train()\n",
    "    for images, labels in training_dataloader:\n",
    "        images = images.to(device)\n",
    "        labels = labels.to(device)\n",
    "        labels_pred = model(images)\n",
    "        # train loss\n",
    "        training_loss = loss_function(labels_pred, labels)\n",
    "        # backpropagation\n",
    "        optimizer.zero_grad()\n",
    "        # training_loss.requires_grad = True\n",
    "        training_loss.backward()\n",
    "        optimizer.step()\n",
    "        progress.step()\n",
    "        training_loss_evaluator.append_loss(training_loss.item())\n",
    "\n",
    "    \n",
    "    # validating network\n",
    "    model.eval()\n",
    "    for images, labels in validation_dataloader:\n",
    "        images = images.to(device)\n",
    "        labels = labels.to(device)\n",
    "        labels_pred = model(images)\n",
    "        validation_loss = loss_function(labels_pred, labels)\n",
    "        validation_accuracy.append(labels_pred, labels)\n",
    "        progress.step()\n",
    "        validation_loss_evaluator.append_loss(validation_loss.item())\n",
    "    epoch_end_time = time.time()\n",
    "    # step scheduler\n",
    "    scheduler.step() # (validation_loss_evaluator.value())\n",
    "    print(\n",
    "        f'train loss: {training_loss_evaluator}  \\\n",
    "        validation loss: {validation_loss_evaluator}  \\\n",
    "        validation accuracy: {validation_accuracy}')\n",
    "    print(\n",
    "        f'precision: {round(validation_accuracy.precision(), 3)}  \\\n",
    "        recall: {round(validation_accuracy.recall(), 3)}  \\\n",
    "        f1: {round(validation_accuracy.f1(), 3)}')\n",
    "    # the evaluators have __str__\n",
    "    print(\n",
    "        f'duration: {round(epoch_end_time - epoch_start_time, 2)} s  \\\n",
    "        learning rate: {round(scheduler.get_last_lr()[0], 9)}')\n",
    "    \n",
    "    # if reaching best validation loss, back up the state\n",
    "    if validation_loss_evaluator.is_best():\n",
    "        best_epoch = current_epoch\n",
    "        best_loss = validation_loss_evaluator.value()\n",
    "        if save_sd and current_epoch > 1:\n",
    "            # remove existing tempfile if exists\n",
    "            os.remove(state_dict_backup_path) if os.path.isfile(state_dict_backup_path) else None\n",
    "            torch.save(model.state_dict(), state_dict_backup_path)\n",
    "\n",
    "    training_losses.append(training_loss_evaluator.value())\n",
    "    validation_losses.append(validation_loss_evaluator.value())\n",
    "\n",
    "    # step early stopper\n",
    "    earlystopper.step(validation_loss_evaluator.value())\n",
    "    print('-'*75)\n",
    "    if earlystopper.stop() and epoch >= min_epoches:\n",
    "        print('early stopper triggered, break')\n",
    "        break\n",
    "    if signalstopper.stop():\n",
    "        print('signalled stop')\n",
    "        break\n",
    "\n",
    "signalstopper.reset()\n",
    "# update the starting epoch number\n",
    "starting_epoch = current_epoch\n",
    "first_run = False\n",
    "print('-' * 75)\n",
    "# show the best epoch, and save, if there is any\n",
    "if best_epoch is not None:\n",
    "    print(f'best validation loss: {round(best_loss, 5)}, epoch {best_epoch}')\n",
    "    print(f'saved to temp file: {state_dict_backup_path}')\n",
    "    \n",
    "else:\n",
    "    print(f'validation loss does not improve')"
   ]
  },
  {
   "cell_type": "markdown",
   "metadata": {},
   "source": [
    "save state dict if having improvements"
   ]
  },
  {
   "cell_type": "code",
   "execution_count": 7,
   "metadata": {},
   "outputs": [
    {
     "name": "stdout",
     "output_type": "stream",
     "text": [
      "state dict saved to path: g:\\My Drive\\master_courses\\BIDH5001 Capstone\\Project\\deep-classification\\bin\\densenet121_landmark_state_06-07-ep_7.pkl\n"
     ]
    }
   ],
   "source": [
    "if best_epoch is not None:\n",
    "    sd_save_filename = f\"densenet121_landmark_state_{datetime.datetime.now().strftime('%m-%d')}-ep_{current_epoch}.pkl\"\n",
    "    sd_save_path = os.path.join(bin_path, sd_save_filename)\n",
    "    torch.save(model.state_dict(), sd_save_path)\n",
    "    print(f'state dict saved to path: {sd_save_path}')"
   ]
  },
  {
   "cell_type": "markdown",
   "metadata": {},
   "source": [
    "running on test set"
   ]
  },
  {
   "cell_type": "code",
   "execution_count": 8,
   "metadata": {},
   "outputs": [
    {
     "name": "stdout",
     "output_type": "stream",
     "text": [
      "test loss: 0.281    test accuracy: 85.0 %\n",
      "precision: 0.98      recall: 0.88      f1: 0.92\n"
     ]
    }
   ],
   "source": [
    "test_loss_evaluator = LossEvaluator(criterion=loss_function)\n",
    "test_accuracy_evaluator = AccuracyEvaluator()\n",
    "saliency_image = None\n",
    "\n",
    "for images, labels in test_dataloader:\n",
    "    images = images.to(device=device)\n",
    "    labels = labels.to(device=device)\n",
    "    labels_pred = model(images)\n",
    "    test_loss = loss_function(labels_pred, labels)\n",
    "    test_loss_evaluator.append_loss(test_loss)\n",
    "    test_accuracy_evaluator.append(labels_pred, labels)\n",
    "    # obtain a saliency image with good image quality\n",
    "    if saliency_image is None and torch.argmax(labels[0]).item() == 2:\n",
    "        saliency_image = images\n",
    "print(f'test loss: {test_loss_evaluator}\\\n",
    "    test accuracy: {test_accuracy_evaluator}')\n",
    "print(\n",
    "    f'precision: {round(test_accuracy_evaluator.precision(), 2)}  \\\n",
    "    recall: {round(test_accuracy_evaluator.recall(), 2)}  \\\n",
    "    f1: {round(test_accuracy_evaluator.f1(), 2)}')"
   ]
  },
  {
   "cell_type": "markdown",
   "metadata": {},
   "source": [
    "Visualization of Results"
   ]
  },
  {
   "cell_type": "code",
   "execution_count": 7,
   "metadata": {},
   "outputs": [],
   "source": [
    "# visualization imports\n",
    "import matplotlib.pyplot as plt\n",
    "from sklearn import metrics"
   ]
  },
  {
   "cell_type": "markdown",
   "metadata": {},
   "source": [
    "plots showing improvements in training and validation loss"
   ]
  },
  {
   "cell_type": "code",
   "execution_count": 8,
   "metadata": {},
   "outputs": [
    {
     "data": {
      "image/png": "[encoded data removed]",
      "text/plain": [
       "<Figure size 640x480 with 1 Axes>"
      ]
     },
     "metadata": {},
     "output_type": "display_data"
    }
   ],
   "source": [
    "training_loss_history = training_losses # training_loss_evaluator.history\n",
    "validation_loss_history = validation_losses # validation_loss_evaluator.history\n",
    "# assert len(training_loss_history) == len(validation_loss_history)\n",
    "plt.plot([i+1 for i in range(len(training_loss_history))], training_loss_history, '-o', label='training loss')\n",
    "plt.plot([i+1 for i in range(len(validation_loss_history))], validation_loss_history, '-o', label='validation loss')\n",
    "plt.title('Change of Losses over Epoches')\n",
    "plt.legend()\n",
    "plt.show()\n"
   ]
  },
  {
   "cell_type": "code",
   "execution_count": 11,
   "metadata": {},
   "outputs": [
    {
     "data": {
      "text/plain": [
       "7"
      ]
     },
     "execution_count": 11,
     "metadata": {},
     "output_type": "execute_result"
    }
   ],
   "source": [
    "current_epoch"
   ]
  },
  {
   "cell_type": "markdown",
   "metadata": {},
   "source": [
    "confusion matrix of prediction values"
   ]
  },
  {
   "cell_type": "code",
   "execution_count": 12,
   "metadata": {},
   "outputs": [
    {
     "data": {
      "image/png": "[encoded data removed]",
      "text/plain": [
       "<Figure size 640x480 with 2 Axes>"
      ]
     },
     "metadata": {},
     "output_type": "display_data"
    }
   ],
   "source": [
    "labels_actual = validation_accuracy.labels_actual\n",
    "labels_pred = validation_accuracy.labels_pred\n",
    "cm_dict = {actual: {pred: 0 for pred in (1,2,3)} for actual in (1,2,3)}\n",
    "for label_actual, label_pred in zip(labels_actual, labels_pred):\n",
    "    cm_dict[label_actual][label_pred] += 1\n",
    "confusion_matrix = metrics.confusion_matrix(labels_actual, labels_pred)\n",
    "cm_display = metrics.ConfusionMatrixDisplay(confusion_matrix = confusion_matrix, display_labels = [1, 2, 3])\n",
    "cm_display.plot(cmap=plt.cm.Blues)\n",
    "plt.show()"
   ]
  },
  {
   "cell_type": "markdown",
   "metadata": {},
   "source": [
    "plot original image and saliency map of the model"
   ]
  },
  {
   "cell_type": "code",
   "execution_count": 13,
   "metadata": {},
   "outputs": [
    {
     "ename": "SyntaxError",
     "evalue": "expected ':' (4083414561.py, line 2)",
     "output_type": "error",
     "traceback": [
      "\u001b[1;36m  Cell \u001b[1;32mIn[13], line 2\u001b[1;36m\u001b[0m\n\u001b[1;33m    for _ in zip()\u001b[0m\n\u001b[1;37m                  ^\u001b[0m\n\u001b[1;31mSyntaxError\u001b[0m\u001b[1;31m:\u001b[0m expected ':'\n"
     ]
    }
   ],
   "source": [
    "_, axs = plt.subplots(nrows=1, ncols=2)\n",
    "for _ in zip()\n",
    "\n",
    "if saliency_image.shape[0] > 1:\n",
    "    saliency_image = saliency_image[[0]]\n",
    "saliency_image.requires_grad_()\n",
    "saliency_label_pred = model(saliency_image)\n",
    "saliency_label_actual = torch.Tensor([[0, 0, 1]]).to(device)\n",
    "saliency_loss = loss_function(saliency_label_pred, saliency_label_actual)\n",
    "saliency_loss.backward()\n",
    "# _, saliency_map = torch.max(saliency_image.grad.data.abs(), dim=1)\n",
    "saliency_map = saliency_image.grad.data.abs()[0][0]\n",
    "_, axs = plt.subplots(nrows=1, ncols=2)\n",
    "axs = axs.flatten()\n",
    "axs[0].imshow(saliency_image.to('cpu')[0][0].detach().numpy(), 'binary_r')\n",
    "axs[1].imshow(saliency_map.to('cpu').detach().numpy(), plt.cm.hot)\n",
    "plt.title()\n",
    "plt.show()"
   ]
  }
 ],
 "metadata": {
  "kernelspec": {
   "display_name": "dl_image",
   "language": "python",
   "name": "python3"
  },
  "language_info": {
   "codemirror_mode": {
    "name": "ipython",
    "version": 3
   },
   "file_extension": ".py",
   "mimetype": "text/x-python",
   "name": "python",
   "nbconvert_exporter": "python",
   "pygments_lexer": "ipython3",
   "version": "3.11.8"
  }
 },
 "nbformat": 4,
 "nbformat_minor": 2
}
