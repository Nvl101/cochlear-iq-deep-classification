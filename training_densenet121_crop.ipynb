{
 "cells": [
  {
   "cell_type": "markdown",
   "metadata": {},
   "source": [
    "## Training DenseNet121 with landmark images"
   ]
  },
  {
   "cell_type": "code",
   "execution_count": 2,
   "metadata": {},
   "outputs": [],
   "source": [
    "# imports\n",
    "import random\n",
    "import pandas as pd\n",
    "import torch\n",
    "from torchvision.models import densenet121\n",
    "from dataio.dataset import CochlearIqDataset\n",
    "\n",
    "random.setstate(233)"
   ]
  },
  {
   "cell_type": "markdown",
   "metadata": {},
   "source": [
    "read data from the table, split into training, validation and test sets by patient id"
   ]
  },
  {
   "cell_type": "code",
   "execution_count": 3,
   "metadata": {},
   "outputs": [],
   "source": [
    "# load the image quality table\n",
    "image_quality_table_path = r\"D:\\data\\cochlear-project\\tables\\landmark_image_quality.csv\"\n",
    "image_quality_table = pd.read_csv(image_quality_table_path)\n",
    "# separation of training, validation and test sets\n",
    "patient_ids = image_quality_table['patient_id'].unique().tolist()\n",
    "total_count = len(patient_ids)\n",
    "validation_size = 0.1\n",
    "test_size = 0.1\n",
    "validation_count = round(total_count * validation_size)\n",
    "test_count = round(total_count * test_size)\n",
    "training_count = total_count - validation_count - test_count\n",
    "random.shuffle(patient_ids)\n",
    "training_ids = patient_ids[:training_count]\n",
    "validation_ids = patient_ids[training_count:training_count+validation_count]\n",
    "test_ids = patient_ids[training_count+validation_count:]\n",
    "training_table = image_quality_table[image_quality_table['patient_id'].isin(training_ids)]\n",
    "validation_table = image_quality_table[image_quality_table['patient_id'].isin(validation_ids)]\n",
    "test_table = image_quality_table[image_quality_table['patient_id'].isin(test_ids)]"
   ]
  },
  {
   "cell_type": "markdown",
   "metadata": {},
   "source": [
    "create corresponding datasets and dataloaders"
   ]
  },
  {
   "cell_type": "code",
   "execution_count": 7,
   "metadata": {},
   "outputs": [
    {
     "data": {
      "text/plain": [
       "['224', '5', '206']"
      ]
     },
     "execution_count": 7,
     "metadata": {},
     "output_type": "execute_result"
    }
   ],
   "source": [
    "# create training, validation and test sets\n",
    "# TODO: resolve dataset compatibility with png files\n",
    "# TODO: dataset \n",
    "training_dataset = CochlearIqDataset(training_table['image_path'], training_table['label'])\n",
    "validation_dataset = CochlearIqDataset(validation_table['image_path'], validation_table['label'])\n",
    "test_dataset = CochlearIqDataset(test_table['image_path'], test_table['label'])\n",
    "training_dataloader = Dataloader()"
   ]
  }
 ],
 "metadata": {
  "kernelspec": {
   "display_name": "dl_image",
   "language": "python",
   "name": "python3"
  },
  "language_info": {
   "codemirror_mode": {
    "name": "ipython",
    "version": 3
   },
   "file_extension": ".py",
   "mimetype": "text/x-python",
   "name": "python",
   "nbconvert_exporter": "python",
   "pygments_lexer": "ipython3",
   "version": "3.11.8"
  }
 },
 "nbformat": 4,
 "nbformat_minor": 2
}
