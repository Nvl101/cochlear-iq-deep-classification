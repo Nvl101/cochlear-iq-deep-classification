{
 "cells": [
  {
   "cell_type": "markdown",
   "metadata": {},
   "source": [
    "# Cochlear Image Quality Classification\n",
    "with DenseNet-121 model"
   ]
  },
  {
   "cell_type": "markdown",
   "metadata": {},
   "source": [
    "*if using google colab, run following cells*"
   ]
  },
  {
   "cell_type": "code",
   "execution_count": null,
   "metadata": {},
   "outputs": [],
   "source": [
    "import os\n",
    "from google.colab import drive\n",
    "drive.mount('/content/drive')\n",
    "project_dir = '/content/drive/MyDrive/master_courses/BIDH5001 Capstone/Project/\\\n",
    "deep-classificataon'\n",
    "os.chdir(project_dir)"
   ]
  },
  {
   "cell_type": "code",
   "execution_count": null,
   "metadata": {},
   "outputs": [],
   "source": [
    "%pip install pydicom"
   ]
  },
  {
   "cell_type": "markdown",
   "metadata": {},
   "source": [
    "*if running locally, start from here*"
   ]
  },
  {
   "cell_type": "code",
   "execution_count": 1,
   "metadata": {},
   "outputs": [
    {
     "name": "stdout",
     "output_type": "stream",
     "text": [
      "- starting from epoch: 1\n"
     ]
    }
   ],
   "source": [
    "# imports\n",
    "import datetime\n",
    "import time\n",
    "import tempfile\n",
    "import warnings\n",
    "import torch\n",
    "import config\n",
    "from dataio.dataloader import create_dataloader\n",
    "from networks.densenet_classifier import densenet121_classifier\n",
    "from training.evaluation import AccuracyEvaluator, LossEvaluator\n",
    "from training.utility.progress_bar import ProgressBar\n",
    "from training.utility.early_stopper import ValLoss as EarlyStopper\n",
    "from training.utility.signal_control import SignalFileControl\n",
    "import os\n",
    "import re\n",
    "\n",
    "\n",
    "# whenever possible, use cuda instead of cpu\n",
    "device = torch.device(\"cuda\" if torch.cuda.is_available() else \"cpu\")\n",
    "if torch.cuda.is_available():\n",
    "    device = torch.device(\"cuda\")\n",
    "else:\n",
    "    device = torch.device(\"cpu\")\n",
    "    warnings.warn(\"cuda is using CPU, this can be very slow\")\n",
    "torch.set_default_device(device)\n",
    "\n",
    "# paths to save and load state dictionary\n",
    "load_sd = False\n",
    "save_sd = True\n",
    "\n",
    "bin_path = os.path.abspath(\"bin\")\n",
    "assert os.path.isdir(bin_path)\n",
    "\n",
    "# if load_sd set True, load from state dict\n",
    "sd_load_path = None\n",
    "starting_epoch = 0\n",
    "sd_file_pattern = r'dense121_state_[0-9]{2}-[0-9]{2}-ep_[0-9]{2}\\.pkl'\n",
    "sd_epoch_pattern = r'dense121_state_[0-9]{2}-[0-9]{2}-ep_([0-9]{2})\\.pkl'\n",
    "if load_sd:\n",
    "    sd_files = [\n",
    "        filename for filename in os.listdir(bin_path)\n",
    "        if re.match(sd_file_pattern, filename)]\n",
    "    sd_files.sort(reverse=True)\n",
    "    if len(sd_files) > 0:\n",
    "        sd_filename = sd_files[0]\n",
    "        sd_load_path = os.path.join(bin_path, sd_filename) \\\n",
    "            if sd_filename is not None else None\n",
    "        match = re.search(sd_epoch_pattern, sd_filename)\n",
    "        starting_epoch = int(match.group(1))\n",
    "        print(f'- loaded state from: {sd_filename}')\n",
    "print(f\"- starting from epoch: {starting_epoch + 1}\")\n",
    "\n",
    "# tempfile to save the model everything reaching the best validation loss\n",
    "state_dict_backup_path = tempfile.mktemp(prefix='state-dict_', suffix='.pth')"
   ]
  },
  {
   "cell_type": "code",
   "execution_count": 2,
   "metadata": {},
   "outputs": [
    {
     "data": {
      "text/plain": [
       "array(['1', '2A', '3A', '3B', '4', '5', '6', '10', '11', '12', '13', '14',\n",
       "       '15'], dtype=object)"
      ]
     },
     "execution_count": 2,
     "metadata": {},
     "output_type": "execute_result"
    }
   ],
   "source": [
    "config.tracking_table['patient_id'].unique()"
   ]
  },
  {
   "cell_type": "markdown",
   "metadata": {},
   "source": [
    "### Training setup\n",
    "**data:**\n",
    "- read dicom paths and labels from the tracking table\n",
    "- create corresponding training, validation and test dataloaders\n",
    "\n",
    "**learning:**\n",
    "- learning rate, epoches\n"
   ]
  },
  {
   "cell_type": "markdown",
   "metadata": {},
   "source": [
    "*the data*"
   ]
  },
  {
   "cell_type": "code",
   "execution_count": 2,
   "metadata": {},
   "outputs": [],
   "source": [
    "# reading from configurations\n",
    "dicoms = config.dicom_paths # tracking_table['dicom_path'].to_list()\n",
    "labels = config.labels # tracking_table['label'].astype('int16').to_list()\n",
    "\n",
    "# initiate the dataloaders\n",
    "dataloader_dict = create_dataloader(\n",
    "    dicoms, labels,\n",
    "    # dicom_dir = config.dicom_dir,\n",
    "    batch_size = 8,\n",
    "    validation_size = config.validation_size,\n",
    "    test_size = config.test_size,\n",
    "    img_size = (224, 224),\n",
    "    use_3_channels = True,\n",
    ")\n",
    "training_dataloader, validation_dataloader, test_dataloader = \\\n",
    "    (dataloader_dict.get(key) for key in ('training_dataloader', 'validation_dataloader', 'test_dataloader'))"
   ]
  },
  {
   "cell_type": "markdown",
   "metadata": {},
   "source": [
    "*the model*"
   ]
  },
  {
   "cell_type": "code",
   "execution_count": 3,
   "metadata": {},
   "outputs": [],
   "source": [
    "# some settings, move to config in future\n",
    "learning_rate = 0.0005 # 0.001 # 0.00005, originally without lr scheduler\n",
    "n_epoches = 15\n",
    "min_epoches = 7 # minimum epoches before early stopper allowed\n",
    "\n",
    "# the classifier model\n",
    "model = densenet121_classifier.to(device=device)\n",
    "model.drop_rate = 0.2\n",
    "# freeze all layers except for classifier\n",
    "# for param in model.parameters():\n",
    "#     param.requires_grad = False  # Freeze all parameters\n",
    "# # unfreeze parameters as follows\n",
    "# # model.features.denseblock3.requires_grad = True\n",
    "# # model.features.transition3.requires_grad = True\n",
    "# model.features.denseblock4.requires_grad = True\n",
    "# model.features.norm5.requires_grad = True\n",
    "# model.classifier.requires_grad = True\n",
    "# load state dict into the model\n",
    "if load_sd and sd_load_path:\n",
    "    state_dict = torch.load(sd_load_path)\n",
    "    model.load_state_dict(state_dict)\n",
    "\n",
    "# optimizers\n",
    "# loss_function = torch.nn.CrossEntropyLoss() # (weight=torch.Tensor([0.1, 0.45, 0.45]).to(device))\n",
    "loss_function = torch.nn.BCELoss()\n",
    "optimizer = torch.optim.Adam(model.parameters(), lr=learning_rate)\n",
    "# scheduler = torch.optim.lr_scheduler.OneCycleLR(\n",
    "#     optimizer, max_lr=learning_rate,\n",
    "#     steps_per_epoch=len(training_dataloader), epochs=n_epoches,\n",
    "#     )\n",
    "scheduler = torch.optim.lr_scheduler.ReduceLROnPlateau(\n",
    "    optimizer, 'min', factor=0.25, patience=1,\n",
    "    # threshold=0.05, threshold_mode='rel',\n",
    "    min_lr = learning_rate / 32,\n",
    "    cooldown=7,\n",
    ")\n",
    "\n",
    "# accuracy and loss evaluators\n",
    "training_loss_evaluator = LossEvaluator(loss_function)\n",
    "validation_loss_evaluator = LossEvaluator(loss_function)\n",
    "validation_accuracy = AccuracyEvaluator()\n",
    "\n",
    "best_epoch, best_loss = None, None"
   ]
  },
  {
   "cell_type": "code",
   "execution_count": null,
   "metadata": {},
   "outputs": [],
   "source": [
    "learning_rate = 0.00025"
   ]
  },
  {
   "cell_type": "code",
   "execution_count": 6,
   "metadata": {},
   "outputs": [],
   "source": [
    "# to continue training for n_epoches\n",
    "n_epoches = 7"
   ]
  },
  {
   "cell_type": "code",
   "execution_count": 6,
   "metadata": {},
   "outputs": [
    {
     "name": "stdout",
     "output_type": "stream",
     "text": [
      "signal file path: C:\\Users\\user\\AppData\\Local\\Temp\\signal-04-29-ax834r7i\n",
      "epoch # 1\n",
      "[                              ]\t0 / 221\r"
     ]
    },
    {
     "name": "stderr",
     "output_type": "stream",
     "text": [
      "c:\\Users\\user\\miniconda3\\envs\\dl_image\\Lib\\site-packages\\torch\\nn\\functional.py:1854: UserWarning: Implicit dimension choice for softmax has been deprecated. Change the call to include dim=X as an argument.\n",
      "  return handle_torch_function(softmax, (input,), input, dim=dim, _stacklevel=_stacklevel, dtype=dtype)\n"
     ]
    },
    {
     "name": "stdout",
     "output_type": "stream",
     "text": [
      "train loss: 0.151          validation loss: 0.084          validation accuracy: 95.8 %\n",
      "precision: 1.0          recall: 0.643          f1: 0.783\n",
      "duration: 122.7 s          learning rate: 0.0005\n",
      "---------------------------------------------------------------------------\n",
      "epoch # 2\n",
      "train loss: 0.099          validation loss: 0.108          validation accuracy: 94.12 %\n",
      "precision: 1.0          recall: 0.571          f1: 0.727\n",
      "duration: 94.01 s          learning rate: 0.0005\n",
      "---------------------------------------------------------------------------\n",
      "epoch # 3\n",
      "train loss: 0.06          validation loss: 0.051          validation accuracy: 97.48 %\n",
      "precision: 1.0          recall: 0.857          f1: 0.923\n",
      "duration: 112.01 s          learning rate: 0.0005\n"
     ]
    },
    {
     "ename": "NameError",
     "evalue": "name 'state_dict_backup_path' is not defined",
     "output_type": "error",
     "traceback": [
      "\u001b[1;31m---------------------------------------------------------------------------\u001b[0m",
      "\u001b[1;31mNameError\u001b[0m                                 Traceback (most recent call last)",
      "Cell \u001b[1;32mIn[6], line 68\u001b[0m\n\u001b[0;32m     65\u001b[0m     best_loss \u001b[38;5;241m=\u001b[39m validation_loss_evaluator\u001b[38;5;241m.\u001b[39mvalue()\n\u001b[0;32m     66\u001b[0m     \u001b[38;5;28;01mif\u001b[39;00m save_sd \u001b[38;5;129;01mand\u001b[39;00m current_epoch \u001b[38;5;241m>\u001b[39m \u001b[38;5;241m1\u001b[39m:\n\u001b[0;32m     67\u001b[0m         \u001b[38;5;66;03m# remove existing tempfile if exists\u001b[39;00m\n\u001b[1;32m---> 68\u001b[0m         os\u001b[38;5;241m.\u001b[39mremove(state_dict_backup_path) \u001b[38;5;28;01mif\u001b[39;00m os\u001b[38;5;241m.\u001b[39mpath\u001b[38;5;241m.\u001b[39misfile(\u001b[43mstate_dict_backup_path\u001b[49m) \u001b[38;5;28;01melse\u001b[39;00m \u001b[38;5;28;01mNone\u001b[39;00m\n\u001b[0;32m     69\u001b[0m         torch\u001b[38;5;241m.\u001b[39msave(model\u001b[38;5;241m.\u001b[39mstate_dict(), state_dict_backup_path)\n\u001b[0;32m     71\u001b[0m \u001b[38;5;66;03m# step early stopper\u001b[39;00m\n",
      "\u001b[1;31mNameError\u001b[0m: name 'state_dict_backup_path' is not defined"
     ]
    }
   ],
   "source": [
    "# evaluators for training/validation loss and accuracy\n",
    "# training_loss = LossEvaluator(loss_function)\n",
    "# validation_loss = LossEvaluator(loss_function)\n",
    "# validation_accuracy = AccuracyEvaluator()\n",
    "earlystopper = EarlyStopper(tolerance=4, target=0.15)\n",
    "signalstopper = SignalFileControl()\n",
    "\n",
    "# training epoches loop\n",
    "for epoch in range(n_epoches):\n",
    "    current_epoch = epoch + 1 + starting_epoch\n",
    "    print(f'epoch # {current_epoch}')\n",
    "    progress = ProgressBar(len(training_dataloader) + len(validation_dataloader))\n",
    "    epoch_start_time = time.time()\n",
    "    # reset pred and actual labels after each epoch\n",
    "    validation_accuracy.reset()\n",
    "    training_loss_evaluator.reset()\n",
    "    validation_loss_evaluator.reset()\n",
    "    # training network\n",
    "    model.train()\n",
    "    for images, labels in training_dataloader:\n",
    "        # images = images.to(torch.float32)\n",
    "        # labels = labels.to(torch.float32)\n",
    "        images = images.to(device)\n",
    "        labels = labels.to(device)\n",
    "        labels_pred = model(images)\n",
    "        # train loss\n",
    "        training_loss = loss_function(labels_pred, labels)\n",
    "        # backpropagation\n",
    "        optimizer.zero_grad()\n",
    "        # training_loss.requires_grad = True\n",
    "        training_loss.backward()\n",
    "        optimizer.step()\n",
    "        progress.step()\n",
    "        training_loss_evaluator.append_loss(training_loss.item())\n",
    "    # validating network\n",
    "    model.eval()\n",
    "    for images, labels in validation_dataloader:\n",
    "        # images = images.to(torch.float32)\n",
    "        # labels = labels.to(torch.float32)\n",
    "        images = images.to(device)\n",
    "        labels = labels.to(device)\n",
    "        labels_pred = model(images)\n",
    "        validation_loss = loss_function(labels_pred, labels)\n",
    "        validation_accuracy.append(labels_pred, labels)\n",
    "        progress.step()\n",
    "        validation_loss_evaluator.append_loss(validation_loss.item())\n",
    "    epoch_end_time = time.time()\n",
    "    # step scheduler\n",
    "    scheduler.step(validation_loss_evaluator.value())\n",
    "    print(\n",
    "        f'train loss: {training_loss_evaluator}  \\\n",
    "        validation loss: {validation_loss_evaluator}  \\\n",
    "        validation accuracy: {validation_accuracy}')\n",
    "    print(\n",
    "        f'precision: {round(validation_accuracy.precision(), 3)}  \\\n",
    "        recall: {round(validation_accuracy.recall(), 3)}  \\\n",
    "        f1: {round(validation_accuracy.f1(), 3)}')\n",
    "    # the evaluators have __str__\n",
    "    print(\n",
    "        f'duration: {round(epoch_end_time - epoch_start_time, 2)} s  \\\n",
    "        learning rate: {round(scheduler.get_last_lr()[0], 9)}')\n",
    "    # if reaching best validation loss, back up the state\n",
    "    if validation_loss_evaluator.is_best():\n",
    "        best_epoch = current_epoch\n",
    "        best_loss = validation_loss_evaluator.value()\n",
    "        if save_sd and current_epoch > 1:\n",
    "            # remove existing tempfile if exists\n",
    "            os.remove(state_dict_backup_path) if os.path.isfile(state_dict_backup_path) else None\n",
    "            torch.save(model.state_dict(), state_dict_backup_path)\n",
    "\n",
    "    # step early stopper\n",
    "    earlystopper.step(validation_loss_evaluator.value())\n",
    "    print('-'*75)\n",
    "    if earlystopper.stop() and epoch >= min_epoches:\n",
    "        print('early stopper triggered, break')\n",
    "        break\n",
    "    if signalstopper.stop():\n",
    "        print('signalled stop')\n",
    "        break\n",
    "\n",
    "signalstopper.reset()\n",
    "# update the starting epoch number\n",
    "starting_epoch = current_epoch\n",
    "print('-' * 75)\n",
    "if best_epoch is not None:\n",
    "    print(f'best validation loss: {best_loss}, epoch {best_epoch}')\n",
    "    print(f'saved to temp file: {state_dict_backup_path}')\n",
    "else:\n",
    "    print(f'validation loss does not improve')"
   ]
  },
  {
   "cell_type": "code",
   "execution_count": 13,
   "metadata": {},
   "outputs": [
    {
     "name": "stdout",
     "output_type": "stream",
     "text": [
      "[2, 2, 2, 2, 2, 2, 2, 2, 2, 2, 2, 3, 3, 3, 1, 1, 1, 1, 1, 1]\n",
      "[2, 2, 2, 2, 2, 2, 2, 2, 2, 2, 1, 3, 1, 2, 1, 1, 1, 1, 1, 1]\n"
     ]
    }
   ],
   "source": [
    "# print(validation_accuracy.labels_pred[:10])\n",
    "print(validation_accuracy.labels_actual[:20])\n",
    "print(validation_accuracy.labels_pred[:20])"
   ]
  },
  {
   "cell_type": "code",
   "execution_count": 14,
   "metadata": {},
   "outputs": [
    {
     "data": {
      "text/plain": [
       "torch.Size([3, 224, 224])"
      ]
     },
     "execution_count": 14,
     "metadata": {},
     "output_type": "execute_result"
    }
   ],
   "source": [
    "images[0].shape"
   ]
  },
  {
   "cell_type": "code",
   "execution_count": 13,
   "metadata": {},
   "outputs": [
    {
     "data": {
      "text/plain": [
       "0    105\n",
       "1     11\n",
       "2      3\n",
       "Name: count, dtype: int64"
      ]
     },
     "execution_count": 13,
     "metadata": {},
     "output_type": "execute_result"
    }
   ],
   "source": [
    "import pandas as pd\n",
    "\n",
    "pd.Series(validation_accuracy.labels_actual).value_counts()"
   ]
  },
  {
   "cell_type": "code",
   "execution_count": 10,
   "metadata": {},
   "outputs": [
    {
     "data": {
      "text/plain": [
       "<matplotlib.image.AxesImage at 0x1db98573210>"
      ]
     },
     "execution_count": 10,
     "metadata": {},
     "output_type": "execute_result"
    },
    {
     "data": {
      "image/png": "[encoded data removed]",
      "text/plain": [
       "<Figure size 640x480 with 1 Axes>"
      ]
     },
     "metadata": {},
     "output_type": "display_data"
    }
   ],
   "source": [
    "import matplotlib.pyplot as plt\n",
    "plt.imshow(images[0].cpu()[0].numpy(), 'binary_r')"
   ]
  },
  {
   "cell_type": "code",
   "execution_count": null,
   "metadata": {},
   "outputs": [],
   "source": [
    "validation_dataloader"
   ]
  },
  {
   "cell_type": "markdown",
   "metadata": {},
   "source": [
    "save state dict"
   ]
  },
  {
   "cell_type": "code",
   "execution_count": 12,
   "metadata": {},
   "outputs": [
    {
     "name": "stdout",
     "output_type": "stream",
     "text": [
      "state dict saved to path: g:\\My Drive\\master_courses\\BIDH5001 Capstone\\Project\\deep-classification\\bin\\densenet121_state_04-29-ep_3.pkl\n"
     ]
    }
   ],
   "source": [
    "# save model state_dicts to target path\n",
    "sd_save_filename = f\"densenet121_state_{datetime.datetime.now().strftime('%m-%d')}-ep_{current_epoch}.pkl\"\n",
    "sd_save_path = os.path.join(bin_path, sd_save_filename)\n",
    "torch.save(model.state_dict(), sd_save_path)\n",
    "print(f'state dict saved to path: {sd_save_path}')"
   ]
  },
  {
   "cell_type": "markdown",
   "metadata": {},
   "source": [
    "run model on the test set"
   ]
  },
  {
   "cell_type": "code",
   "execution_count": null,
   "metadata": {},
   "outputs": [],
   "source": [
    "type(model.state_dict())"
   ]
  },
  {
   "cell_type": "markdown",
   "metadata": {},
   "source": [
    "running on test set"
   ]
  },
  {
   "cell_type": "code",
   "execution_count": 15,
   "metadata": {},
   "outputs": [
    {
     "name": "stderr",
     "output_type": "stream",
     "text": [
      "c:\\Users\\user\\miniconda3\\envs\\dl_image\\Lib\\site-packages\\torch\\nn\\functional.py:1854: UserWarning: Implicit dimension choice for softmax has been deprecated. Change the call to include dim=X as an argument.\n",
      "  return handle_torch_function(softmax, (input,), input, dim=dim, _stacklevel=_stacklevel, dtype=dtype)\n"
     ]
    },
    {
     "name": "stdout",
     "output_type": "stream",
     "text": [
      "test loss: 0.083    test accuracy: 96.55 %\n",
      "precision: 1.0      recall: 0.67      f1: 0.8\n"
     ]
    }
   ],
   "source": [
    "test_loss_evaluator = LossEvaluator(criterion=loss_function)\n",
    "test_accuracy_evaluator = AccuracyEvaluator()\n",
    "\n",
    "for images, labels in test_dataloader:\n",
    "    images = images.to(device=device)\n",
    "    labels = labels.to(device=device)\n",
    "    labels_pred = model(images)\n",
    "    test_loss = loss_function(labels_pred, labels)\n",
    "    test_loss_evaluator.append_loss(test_loss)\n",
    "    test_accuracy_evaluator.append(labels_pred, labels)\n",
    "print(f'test loss: {test_loss_evaluator}\\\n",
    "    test accuracy: {test_accuracy_evaluator}')\n",
    "print(\n",
    "    f'precision: {round(test_accuracy_evaluator.precision(), 2)}  \\\n",
    "    recall: {round(test_accuracy_evaluator.recall(), 2)}  \\\n",
    "    f1: {round(test_accuracy_evaluator.f1(), 2)}')"
   ]
  }
 ],
 "metadata": {
  "kernelspec": {
   "display_name": "dl_image",
   "language": "python",
   "name": "python3"
  },
  "language_info": {
   "codemirror_mode": {
    "name": "ipython",
    "version": 3
   },
   "file_extension": ".py",
   "mimetype": "text/x-python",
   "name": "python",
   "nbconvert_exporter": "python",
   "pygments_lexer": "ipython3",
   "version": "3.11.8"
  }
 },
 "nbformat": 4,
 "nbformat_minor": 2
}
